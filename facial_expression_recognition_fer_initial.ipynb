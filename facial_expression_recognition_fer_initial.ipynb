{
  "nbformat": 4,
  "nbformat_minor": 0,
  "metadata": {
    "kernelspec": {
      "language": "python",
      "display_name": "Python 3",
      "name": "python3"
    },
    "language_info": {
      "pygments_lexer": "ipython3",
      "nbconvert_exporter": "python",
      "version": "3.6.4",
      "file_extension": ".py",
      "codemirror_mode": {
        "name": "ipython",
        "version": 3
      },
      "name": "python",
      "mimetype": "text/x-python"
    },
    "colab": {
      "name": "facial-expression-recognition-fer-initial.ipynb",
      "provenance": []
    }
  },
  "cells": [
    {
      "cell_type": "code",
      "metadata": {
        "_uuid": "8f2839f25d086af736a60e9eeb907d3b93b6e0e5",
        "_cell_guid": "b1076dfc-b9ad-4769-8c92-a6c4dae69d19",
        "trusted": true,
        "id": "9kFGhIMA1_MR",
        "colab_type": "code",
        "colab": {}
      },
      "source": [
        "import numpy as np\n",
        "import pandas as pd"
      ],
      "execution_count": null,
      "outputs": []
    },
    {
      "cell_type": "code",
      "metadata": {
        "trusted": true,
        "id": "DrigioFT1_Mr",
        "colab_type": "code",
        "colab": {}
      },
      "source": [
        "import os\n",
        "for dirname, _, filenames in os.walk('/kaggle/input'):\n",
        "    for filename in filenames:\n",
        "        print(os.path.join(dirname, filename))"
      ],
      "execution_count": null,
      "outputs": []
    },
    {
      "cell_type": "code",
      "metadata": {
        "trusted": true,
        "id": "iBtsxUlo1_M4",
        "colab_type": "code",
        "colab": {}
      },
      "source": [
        "import pandas as pd\n",
        "import numpy as np\n",
        "import matplotlib.pyplot as plt\n",
        "\n",
        "import tensorflow as tf\n",
        "from tensorflow.keras.models import Sequential\n",
        "from tensorflow.keras.layers import Conv2D, MaxPooling2D, Dropout, BatchNormalization, Dense, Flatten\n",
        "from tensorflow.keras.utils import to_categorical\n",
        "from tensorflow.keras.preprocessing.image import ImageDataGenerator\n",
        "from tensorflow.keras.optimizers import RMSprop\n",
        "from keras.preprocessing import image\n",
        "from tensorflow.keras.callbacks import EarlyStopping, ReduceLROnPlateau\n",
        "\n",
        "from sklearn.model_selection import train_test_split"
      ],
      "execution_count": null,
      "outputs": []
    },
    {
      "cell_type": "code",
      "metadata": {
        "trusted": true,
        "id": "MIjhV7Zp1_ND",
        "colab_type": "code",
        "colab": {}
      },
      "source": [
        "import os\n",
        "print(os.listdir(\"../input\"))\n",
        "data = pd.read_csv('/kaggle/input/facial-expression-recognitionferchallenge/fer2013/fer2013/fer2013.csv')\n",
        "data.shape"
      ],
      "execution_count": null,
      "outputs": []
    },
    {
      "cell_type": "code",
      "metadata": {
        "trusted": true,
        "id": "JVPZfgsv1_NO",
        "colab_type": "code",
        "colab": {}
      },
      "source": [
        "data.head()"
      ],
      "execution_count": null,
      "outputs": []
    },
    {
      "cell_type": "code",
      "metadata": {
        "trusted": true,
        "id": "Ggj8nXlK1_NZ",
        "colab_type": "code",
        "colab": {}
      },
      "source": [
        "data.Usage.value_counts()"
      ],
      "execution_count": null,
      "outputs": []
    },
    {
      "cell_type": "code",
      "metadata": {
        "trusted": true,
        "id": "6QWla-k41_Nj",
        "colab_type": "code",
        "colab": {}
      },
      "source": [
        "emotion_map = {0: ' Angry', 1: 'Digust', 2: 'Fear', 3: 'Happy', 4: 'Sad', 5: 'Surprise', 6: 'Neutral'}\n",
        "emotion_counts = data['emotion'].value_counts(sort=False).reset_index()\n",
        "emotion_counts.columns = ['emotion', 'number']\n",
        "emotion_counts['emotion'] = emotion_counts['emotion'].map(emotion_map)\n",
        "emotion_counts"
      ],
      "execution_count": null,
      "outputs": []
    },
    {
      "cell_type": "code",
      "metadata": {
        "trusted": true,
        "id": "_ElyOu-f1_Nz",
        "colab_type": "code",
        "colab": {}
      },
      "source": [
        "plt.figure(figsize=(6, 4))\n",
        "plt.bar(emotion_counts.emotion, emotion_counts.number)\n",
        "plt.title('Class distribution')\n",
        "plt.xlabel('Emotions', fontsize=12)\n",
        "plt.ylabel('Number', fontsize=12)\n",
        "plt.show()"
      ],
      "execution_count": null,
      "outputs": []
    },
    {
      "cell_type": "code",
      "metadata": {
        "trusted": true,
        "id": "zuR3frKP1_N6",
        "colab_type": "code",
        "colab": {}
      },
      "source": [
        "x = []\n",
        "y = []\n",
        "first = True\n",
        "for line in open(\"/kaggle/input/facial-expression-recognitionferchallenge/fer2013/fer2013/fer2013.csv\"):\n",
        "    if first:\n",
        "        first = False\n",
        "    else:\n",
        "        row = line.split(',')\n",
        "        x.append([int(p) for p in row[1].split()])\n",
        "        y.append(int(row[0]))\n",
        "x, y = np.array(x) / 255.0, np.array(y)"
      ],
      "execution_count": null,
      "outputs": []
    },
    {
      "cell_type": "code",
      "metadata": {
        "trusted": true,
        "id": "XsyPL1o21_OB",
        "colab_type": "code",
        "colab": {}
      },
      "source": [
        "x = x.reshape(-1, 48, 48, 1)"
      ],
      "execution_count": null,
      "outputs": []
    },
    {
      "cell_type": "code",
      "metadata": {
        "trusted": true,
        "id": "l3z3h4rH1_OJ",
        "colab_type": "code",
        "colab": {}
      },
      "source": [
        "x_train, x_test, y_train, y_test = train_test_split(x, y, test_size=0.1, random_state=0)"
      ],
      "execution_count": null,
      "outputs": []
    },
    {
      "cell_type": "code",
      "metadata": {
        "trusted": true,
        "id": "zn2-uKG_1_OT",
        "colab_type": "code",
        "colab": {}
      },
      "source": [
        "num_class = len(set(y))\n",
        "y_train = (np.arange(num_class) == y_train[:, None]).astype(np.float32)\n",
        "y_test = (np.arange(num_class) == y_test[:, None]).astype(np.float32)"
      ],
      "execution_count": null,
      "outputs": []
    },
    {
      "cell_type": "code",
      "metadata": {
        "trusted": true,
        "id": "POYQ_0wv1_Ob",
        "colab_type": "code",
        "colab": {}
      },
      "source": [
        "datagen = ImageDataGenerator(\n",
        "    zoom_range = 0.1,\n",
        "    height_shift_range = 0.1,\n",
        "    width_shift_range = 0.1,\n",
        "    rotation_range = 10,\n",
        "    horizontal_flip = True,\n",
        "    vertical_flip = True\n",
        ")"
      ],
      "execution_count": null,
      "outputs": []
    },
    {
      "cell_type": "code",
      "metadata": {
        "trusted": true,
        "id": "7-aCtPoR1_Oj",
        "colab_type": "code",
        "colab": {}
      },
      "source": [
        "datagen.fit(x_train)"
      ],
      "execution_count": null,
      "outputs": []
    },
    {
      "cell_type": "code",
      "metadata": {
        "trusted": true,
        "id": "bMMuFJYY1_Ov",
        "colab_type": "code",
        "colab": {}
      },
      "source": [
        "model = Sequential()\n",
        "\n",
        "input_shape = (48, 48, 1)\n",
        "\n",
        "model.add(Conv2D(filters=32, kernel_size=5, padding='same', activation='relu', input_shape=input_shape))\n",
        "model.add(Conv2D(filters=64, kernel_size=5, padding='same', activation='relu', input_shape=input_shape))\n",
        "\n",
        "model.add(BatchNormalization())\n",
        "model.add(MaxPooling2D(pool_size=(3, 3)))\n",
        "\n",
        "model.add(Conv2D(filters=32, kernel_size=5, padding='same', activation='relu', input_shape=input_shape))\n",
        "model.add(Conv2D(filters=128, kernel_size=5, padding='same', activation='relu', input_shape=input_shape))\n",
        "\n",
        "model.add(BatchNormalization())\n",
        "model.add(MaxPooling2D(pool_size=(3, 3)))\n",
        "\n",
        "model.add(Conv2D(filters=512, kernel_size=5, padding='same', activation='relu', input_shape=input_shape))\n",
        "model.add(MaxPooling2D(pool_size=(3, 3)))\n",
        "\n",
        "model.add(Flatten())\n",
        "\n",
        "model.add(Dense(32, activation='relu'))\n",
        "model.add(BatchNormalization())\n",
        "\n",
        "model.add(Dense(7, activation='softmax'))\n",
        "\n",
        "optimizer = RMSprop(learning_rate=0.001, rho=0.99)\n",
        "model.compile(loss='categorical_crossentropy', optimizer=optimizer, metrics=['accuracy'])\n",
        "\n",
        "reduce_lr = ReduceLROnPlateau(monitor='val_loss', factor=0.3, verbose=1,patience=2, min_lr=0.00000001)\n",
        "\n",
        "callback = EarlyStopping(monitor='loss', patience=5)\n",
        "\n",
        "model.summary()"
      ],
      "execution_count": null,
      "outputs": []
    },
    {
      "cell_type": "code",
      "metadata": {
        "trusted": true,
        "id": "QHg1vf8S1_O5",
        "colab_type": "code",
        "colab": {}
      },
      "source": [
        "history = model.fit(datagen.flow(x_train, y_train, batch_size=64), epochs=100, validation_data=(x_test, y_test), verbose=1, callbacks=[reduce_lr, callback])"
      ],
      "execution_count": null,
      "outputs": []
    },
    {
      "cell_type": "code",
      "metadata": {
        "trusted": true,
        "id": "t6i_mTA21_PF",
        "colab_type": "code",
        "colab": {}
      },
      "source": [
        "final_loss, final_acc = model.evaluate(x_test, y_test, verbose=0)\n",
        "print(\"Final loss: {0:.4f}, final accuracy: {1:.4}\".format(final_loss, final_acc))"
      ],
      "execution_count": null,
      "outputs": []
    },
    {
      "cell_type": "code",
      "metadata": {
        "_uuid": "d629ff2d2480ee46fbb7e2d37f6b5fab8052498a",
        "_cell_guid": "79c7e3d0-c299-4dcb-8224-4455121ee9b0",
        "trusted": false,
        "id": "TsfhTZtG1_PO",
        "colab_type": "code",
        "colab": {}
      },
      "source": [
        "plt.plot(history.history['loss'], color='b')\n",
        "plt.plot(history.history['val_loss'], color='r')\n",
        "plt.show()\n",
        "plt.plot(history.history['accuracy'], color='b')\n",
        "plt.plot(history.history['val_accuracy'], color='r')\n",
        "plt.show()"
      ],
      "execution_count": null,
      "outputs": []
    },
    {
      "cell_type": "markdown",
      "metadata": {
        "id": "bA47XO7w4Dvj",
        "colab_type": "text"
      },
      "source": [
        "Final loss: 0.9863, final accuracy: 0.6291"
      ]
    }
  ]
}
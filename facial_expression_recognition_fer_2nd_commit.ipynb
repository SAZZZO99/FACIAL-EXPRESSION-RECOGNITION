{
  "nbformat": 4,
  "nbformat_minor": 0,
  "metadata": {
    "kernelspec": {
      "name": "python3",
      "display_name": "Python 3",
      "language": "python"
    },
    "language_info": {
      "name": "python",
      "version": "3.7.6",
      "mimetype": "text/x-python",
      "codemirror_mode": {
        "name": "ipython",
        "version": 3
      },
      "pygments_lexer": "ipython3",
      "nbconvert_exporter": "python",
      "file_extension": ".py"
    },
    "colab": {
      "name": "facial-expression-recognition-fer-2nd-commit.ipynb",
      "provenance": []
    }
  },
  "cells": [
    {
      "cell_type": "code",
      "metadata": {
        "_uuid": "8f2839f25d086af736a60e9eeb907d3b93b6e0e5",
        "_cell_guid": "b1076dfc-b9ad-4769-8c92-a6c4dae69d19",
        "trusted": true,
        "id": "40zNCl47GXr9",
        "colab_type": "code",
        "colab": {}
      },
      "source": [
        "import numpy as np\n",
        "import pandas as pd"
      ],
      "execution_count": null,
      "outputs": []
    },
    {
      "cell_type": "code",
      "metadata": {
        "trusted": true,
        "id": "Bo0frqi1GXsP",
        "colab_type": "code",
        "colab": {},
        "outputId": "5eec93a3-9077-4f4a-abf6-d504bf9508af"
      },
      "source": [
        "import os\n",
        "for dirname, _, filenames in os.walk('/kaggle/input'):\n",
        "    for filename in filenames:\n",
        "        print(os.path.join(dirname, filename))"
      ],
      "execution_count": null,
      "outputs": [
        {
          "output_type": "stream",
          "text": [
            "/kaggle/input/facial-expression-recognitionferchallenge/Submission.csv\n",
            "/kaggle/input/facial-expression-recognitionferchallenge/fer2013/fer2013/README\n",
            "/kaggle/input/facial-expression-recognitionferchallenge/fer2013/fer2013/fer2013.csv\n",
            "/kaggle/input/facial-expression-recognitionferchallenge/fer2013/fer2013/fer2013.bib\n"
          ],
          "name": "stdout"
        }
      ]
    },
    {
      "cell_type": "code",
      "metadata": {
        "trusted": true,
        "id": "8fkr1tjSGXso",
        "colab_type": "code",
        "colab": {}
      },
      "source": [
        "import pandas as pd\n",
        "import numpy as np\n",
        "import matplotlib.pyplot as plt\n",
        "\n",
        "import tensorflow as tf\n",
        "from tensorflow.keras.models import Sequential\n",
        "\n",
        "from tensorflow.keras.utils import to_categorical\n",
        "from tensorflow.keras.preprocessing.image import ImageDataGenerator\n",
        "from tensorflow.keras.optimizers import RMSprop\n",
        "from keras.preprocessing import image\n",
        "\n",
        "from tensorflow.keras.layers import Conv2D,Dense,AveragePooling2D,MaxPooling2D, Flatten, Dropout \n",
        "from tensorflow.keras.optimizers import Adam\n",
        "from tensorflow.keras.callbacks import TensorBoard\n",
        "from tensorflow.keras.layers import BatchNormalization\n",
        "\n",
        "from sklearn.model_selection import train_test_split"
      ],
      "execution_count": null,
      "outputs": []
    },
    {
      "cell_type": "code",
      "metadata": {
        "trusted": true,
        "id": "KpXolbDbGXs6",
        "colab_type": "code",
        "colab": {},
        "outputId": "8af83bb2-e4ac-499f-fbf8-e47344191d5b"
      },
      "source": [
        "import os\n",
        "print(os.listdir(\"../input\"))\n",
        "data = pd.read_csv('/kaggle/input/facial-expression-recognitionferchallenge/fer2013/fer2013/fer2013.csv')\n",
        "data.shape"
      ],
      "execution_count": null,
      "outputs": [
        {
          "output_type": "stream",
          "text": [
            "['facial-expression-recognitionferchallenge']\n"
          ],
          "name": "stdout"
        },
        {
          "output_type": "execute_result",
          "data": {
            "text/plain": [
              "(35887, 3)"
            ]
          },
          "metadata": {
            "tags": []
          },
          "execution_count": 22
        }
      ]
    },
    {
      "cell_type": "code",
      "metadata": {
        "trusted": true,
        "id": "Qiw5GNaoGXtG",
        "colab_type": "code",
        "colab": {},
        "outputId": "052b47ee-2215-4de5-c230-95acb6b9230d"
      },
      "source": [
        "data.head()"
      ],
      "execution_count": null,
      "outputs": [
        {
          "output_type": "execute_result",
          "data": {
            "text/plain": [
              "   emotion                                             pixels     Usage\n",
              "0        0  70 80 82 72 58 58 60 63 54 58 60 48 89 115 121...  Training\n",
              "1        0  151 150 147 155 148 133 111 140 170 174 182 15...  Training\n",
              "2        2  231 212 156 164 174 138 161 173 182 200 106 38...  Training\n",
              "3        4  24 32 36 30 32 23 19 20 30 41 21 22 32 34 21 1...  Training\n",
              "4        6  4 0 0 0 0 0 0 0 0 0 0 0 3 15 23 28 48 50 58 84...  Training"
            ],
            "text/html": [
              "<div>\n",
              "<style scoped>\n",
              "    .dataframe tbody tr th:only-of-type {\n",
              "        vertical-align: middle;\n",
              "    }\n",
              "\n",
              "    .dataframe tbody tr th {\n",
              "        vertical-align: top;\n",
              "    }\n",
              "\n",
              "    .dataframe thead th {\n",
              "        text-align: right;\n",
              "    }\n",
              "</style>\n",
              "<table border=\"1\" class=\"dataframe\">\n",
              "  <thead>\n",
              "    <tr style=\"text-align: right;\">\n",
              "      <th></th>\n",
              "      <th>emotion</th>\n",
              "      <th>pixels</th>\n",
              "      <th>Usage</th>\n",
              "    </tr>\n",
              "  </thead>\n",
              "  <tbody>\n",
              "    <tr>\n",
              "      <th>0</th>\n",
              "      <td>0</td>\n",
              "      <td>70 80 82 72 58 58 60 63 54 58 60 48 89 115 121...</td>\n",
              "      <td>Training</td>\n",
              "    </tr>\n",
              "    <tr>\n",
              "      <th>1</th>\n",
              "      <td>0</td>\n",
              "      <td>151 150 147 155 148 133 111 140 170 174 182 15...</td>\n",
              "      <td>Training</td>\n",
              "    </tr>\n",
              "    <tr>\n",
              "      <th>2</th>\n",
              "      <td>2</td>\n",
              "      <td>231 212 156 164 174 138 161 173 182 200 106 38...</td>\n",
              "      <td>Training</td>\n",
              "    </tr>\n",
              "    <tr>\n",
              "      <th>3</th>\n",
              "      <td>4</td>\n",
              "      <td>24 32 36 30 32 23 19 20 30 41 21 22 32 34 21 1...</td>\n",
              "      <td>Training</td>\n",
              "    </tr>\n",
              "    <tr>\n",
              "      <th>4</th>\n",
              "      <td>6</td>\n",
              "      <td>4 0 0 0 0 0 0 0 0 0 0 0 3 15 23 28 48 50 58 84...</td>\n",
              "      <td>Training</td>\n",
              "    </tr>\n",
              "  </tbody>\n",
              "</table>\n",
              "</div>"
            ]
          },
          "metadata": {
            "tags": []
          },
          "execution_count": 23
        }
      ]
    },
    {
      "cell_type": "code",
      "metadata": {
        "trusted": true,
        "id": "S8ZzNV0RGXtS",
        "colab_type": "code",
        "colab": {},
        "outputId": "7c258f9a-5dd5-48e1-8f50-b0d43e2b41d6"
      },
      "source": [
        "data.Usage.value_counts()"
      ],
      "execution_count": null,
      "outputs": [
        {
          "output_type": "execute_result",
          "data": {
            "text/plain": [
              "Training       28709\n",
              "PrivateTest     3589\n",
              "PublicTest      3589\n",
              "Name: Usage, dtype: int64"
            ]
          },
          "metadata": {
            "tags": []
          },
          "execution_count": 24
        }
      ]
    },
    {
      "cell_type": "code",
      "metadata": {
        "trusted": true,
        "id": "KVWCanLaGXtd",
        "colab_type": "code",
        "colab": {},
        "outputId": "b22259a9-664d-46f4-e744-1fbd26efe9ee"
      },
      "source": [
        "emotion_map = {0: ' Angry', 1: 'Digust', 2: 'Fear', 3: 'Happy', 4: 'Sad', 5: 'Surprise', 6: 'Neutral'}\n",
        "emotion_counts = data['emotion'].value_counts(sort=False).reset_index()\n",
        "emotion_counts.columns = ['emotion', 'number']\n",
        "emotion_counts['emotion'] = emotion_counts['emotion'].map(emotion_map)\n",
        "emotion_counts"
      ],
      "execution_count": null,
      "outputs": [
        {
          "output_type": "execute_result",
          "data": {
            "text/plain": [
              "    emotion  number\n",
              "0     Angry    4953\n",
              "1    Digust     547\n",
              "2      Fear    5121\n",
              "3     Happy    8989\n",
              "4       Sad    6077\n",
              "5  Surprise    4002\n",
              "6   Neutral    6198"
            ],
            "text/html": [
              "<div>\n",
              "<style scoped>\n",
              "    .dataframe tbody tr th:only-of-type {\n",
              "        vertical-align: middle;\n",
              "    }\n",
              "\n",
              "    .dataframe tbody tr th {\n",
              "        vertical-align: top;\n",
              "    }\n",
              "\n",
              "    .dataframe thead th {\n",
              "        text-align: right;\n",
              "    }\n",
              "</style>\n",
              "<table border=\"1\" class=\"dataframe\">\n",
              "  <thead>\n",
              "    <tr style=\"text-align: right;\">\n",
              "      <th></th>\n",
              "      <th>emotion</th>\n",
              "      <th>number</th>\n",
              "    </tr>\n",
              "  </thead>\n",
              "  <tbody>\n",
              "    <tr>\n",
              "      <th>0</th>\n",
              "      <td>Angry</td>\n",
              "      <td>4953</td>\n",
              "    </tr>\n",
              "    <tr>\n",
              "      <th>1</th>\n",
              "      <td>Digust</td>\n",
              "      <td>547</td>\n",
              "    </tr>\n",
              "    <tr>\n",
              "      <th>2</th>\n",
              "      <td>Fear</td>\n",
              "      <td>5121</td>\n",
              "    </tr>\n",
              "    <tr>\n",
              "      <th>3</th>\n",
              "      <td>Happy</td>\n",
              "      <td>8989</td>\n",
              "    </tr>\n",
              "    <tr>\n",
              "      <th>4</th>\n",
              "      <td>Sad</td>\n",
              "      <td>6077</td>\n",
              "    </tr>\n",
              "    <tr>\n",
              "      <th>5</th>\n",
              "      <td>Surprise</td>\n",
              "      <td>4002</td>\n",
              "    </tr>\n",
              "    <tr>\n",
              "      <th>6</th>\n",
              "      <td>Neutral</td>\n",
              "      <td>6198</td>\n",
              "    </tr>\n",
              "  </tbody>\n",
              "</table>\n",
              "</div>"
            ]
          },
          "metadata": {
            "tags": []
          },
          "execution_count": 25
        }
      ]
    },
    {
      "cell_type": "code",
      "metadata": {
        "trusted": true,
        "id": "sfzFFRtKGXtp",
        "colab_type": "code",
        "colab": {},
        "outputId": "b700da08-e1f6-48ae-951b-6e914d8d622b"
      },
      "source": [
        "plt.figure(figsize=(6, 4))\n",
        "plt.bar(emotion_counts.emotion, emotion_counts.number)\n",
        "plt.title('Class distribution')\n",
        "plt.xlabel('Emotions', fontsize=12)\n",
        "plt.ylabel('Number', fontsize=12)\n",
        "plt.show()"
      ],
      "execution_count": null,
      "outputs": [
        {
          "output_type": "display_data",
          "data": {
            "text/plain": [
              "<Figure size 432x288 with 1 Axes>"
            ],
            "image/png": "[encoded data removed]"
          },
          "metadata": {
            "tags": [],
            "needs_background": "light"
          }
        }
      ]
    },
    {
      "cell_type": "code",
      "metadata": {
        "trusted": true,
        "id": "dr-pvoo2GXtw",
        "colab_type": "code",
        "colab": {}
      },
      "source": [
        "x = []\n",
        "y = []\n",
        "first = True\n",
        "for line in open(\"/kaggle/input/facial-expression-recognitionferchallenge/fer2013/fer2013/fer2013.csv\"):\n",
        "    if first:\n",
        "        first = False\n",
        "    else:\n",
        "        row = line.split(',')\n",
        "        x.append([int(p) for p in row[1].split()])\n",
        "        y.append(int(row[0]))\n",
        "x, y = np.array(x) / 255.0, np.array(y)"
      ],
      "execution_count": null,
      "outputs": []
    },
    {
      "cell_type": "code",
      "metadata": {
        "trusted": true,
        "id": "32N9z8JkGXt1",
        "colab_type": "code",
        "colab": {}
      },
      "source": [
        "x = x.reshape(-1, 48, 48, 1)"
      ],
      "execution_count": null,
      "outputs": []
    },
    {
      "cell_type": "code",
      "metadata": {
        "trusted": true,
        "id": "Nv3yMzXYGXt6",
        "colab_type": "code",
        "colab": {}
      },
      "source": [
        "x_train, x_test, y_train, y_test = train_test_split(x, y, test_size=0.1, random_state=0)"
      ],
      "execution_count": null,
      "outputs": []
    },
    {
      "cell_type": "code",
      "metadata": {
        "trusted": true,
        "id": "sg7zZp5kGXt-",
        "colab_type": "code",
        "colab": {}
      },
      "source": [
        "num_class = len(set(y))\n",
        "y_train = (np.arange(num_class) == y_train[:, None]).astype(np.float32)\n",
        "y_test = (np.arange(num_class) == y_test[:, None]).astype(np.float32)"
      ],
      "execution_count": null,
      "outputs": []
    },
    {
      "cell_type": "code",
      "metadata": {
        "trusted": true,
        "id": "mq0DeWyzGXuB",
        "colab_type": "code",
        "colab": {}
      },
      "source": [
        "datagen = ImageDataGenerator(\n",
        "    zoom_range = 0.1,\n",
        "    height_shift_range = 0.1,\n",
        "    width_shift_range = 0.1,\n",
        "    rotation_range = 10,\n",
        "    horizontal_flip = True,\n",
        "    vertical_flip = True\n",
        ")"
      ],
      "execution_count": null,
      "outputs": []
    },
    {
      "cell_type": "code",
      "metadata": {
        "trusted": true,
        "id": "A6iJoioSGXuE",
        "colab_type": "code",
        "colab": {}
      },
      "source": [
        "datagen.fit(x_train)"
      ],
      "execution_count": null,
      "outputs": []
    },
    {
      "cell_type": "code",
      "metadata": {
        "trusted": true,
        "id": "ggvh9hJ4GXuI",
        "colab_type": "code",
        "colab": {},
        "outputId": "0bd0a0ef-087c-4b09-f10a-318d6f75bf97"
      },
      "source": [
        "cnn_model = Sequential()\n",
        "\n",
        "Input_shape = (48, 48, 1)\n",
        "\n",
        "cnn_model = Sequential()\n",
        "cnn_model.add(Conv2D(filters = 32, kernel_size = (3,3), activation = 'relu', kernel_initializer='he_uniform', padding='same',input_shape = Input_shape))\n",
        "cnn_model.add(BatchNormalization())\n",
        "cnn_model.add(Conv2D(filters = 32, kernel_size = (3,3), activation = 'relu', kernel_initializer='he_uniform',padding='same'))\n",
        "cnn_model.add(BatchNormalization())\n",
        "cnn_model.add(MaxPooling2D(2,2))\n",
        "cnn_model.add(Dropout(0.2))\n",
        "\n",
        "cnn_model.add(Conv2D(filters = 64, kernel_size = (3,3), activation = 'relu', kernel_initializer='he_uniform', padding='same',input_shape = Input_shape))\n",
        "cnn_model.add(BatchNormalization())\n",
        "cnn_model.add(Conv2D(filters = 64, kernel_size = (3,3), activation = 'relu', kernel_initializer='he_uniform',padding='same'))\n",
        "cnn_model.add(BatchNormalization())\n",
        "cnn_model.add(MaxPooling2D(2,2))\n",
        "cnn_model.add(Dropout(0.3))\n",
        "\n",
        "\n",
        "cnn_model.add(Conv2D(filters = 128, kernel_size = (3,3), activation = 'relu', kernel_initializer='he_uniform',padding='same'))\n",
        "cnn_model.add(BatchNormalization())\n",
        "cnn_model.add(Conv2D(filters = 128, kernel_size = (3,3), activation = 'relu', kernel_initializer='he_uniform',padding='same'))\n",
        "cnn_model.add(BatchNormalization())\n",
        "cnn_model.add(AveragePooling2D(2,2))\n",
        "cnn_model.add(Dropout(0.4))\n",
        "\n",
        "cnn_model.add(Flatten())\n",
        "\n",
        "cnn_model.add(Dense(units = 1024, activation = 'relu', kernel_initializer='he_uniform'))\n",
        "cnn_model.add(BatchNormalization())\n",
        "cnn_model.add(Dropout(0.5))\n",
        "\n",
        "cnn_model.add(Dense(units = 7, activation = 'softmax'))\n",
        "\n",
        "cnn_model.compile(loss = 'categorical_crossentropy', optimizer = Adam(lr=0.001,beta_1=0.9,beta_2=0.999), metrics = ['accuracy'])\n",
        "cnn_model.summary()"
      ],
      "execution_count": null,
      "outputs": [
        {
          "output_type": "stream",
          "text": [
            "Model: \"sequential_4\"\n",
            "_________________________________________________________________\n",
            "Layer (type)                 Output Shape              Param #   \n",
            "=================================================================\n",
            "conv2d_11 (Conv2D)           (None, 48, 48, 32)        320       \n",
            "_________________________________________________________________\n",
            "batch_normalization_10 (Batc (None, 48, 48, 32)        128       \n",
            "_________________________________________________________________\n",
            "conv2d_12 (Conv2D)           (None, 48, 48, 32)        9248      \n",
            "_________________________________________________________________\n",
            "batch_normalization_11 (Batc (None, 48, 48, 32)        128       \n",
            "_________________________________________________________________\n",
            "max_pooling2d_5 (MaxPooling2 (None, 24, 24, 32)        0         \n",
            "_________________________________________________________________\n",
            "dropout_4 (Dropout)          (None, 24, 24, 32)        0         \n",
            "_________________________________________________________________\n",
            "conv2d_13 (Conv2D)           (None, 24, 24, 64)        18496     \n",
            "_________________________________________________________________\n",
            "batch_normalization_12 (Batc (None, 24, 24, 64)        256       \n",
            "_________________________________________________________________\n",
            "conv2d_14 (Conv2D)           (None, 24, 24, 64)        36928     \n",
            "_________________________________________________________________\n",
            "batch_normalization_13 (Batc (None, 24, 24, 64)        256       \n",
            "_________________________________________________________________\n",
            "max_pooling2d_6 (MaxPooling2 (None, 12, 12, 64)        0         \n",
            "_________________________________________________________________\n",
            "dropout_5 (Dropout)          (None, 12, 12, 64)        0         \n",
            "_________________________________________________________________\n",
            "conv2d_15 (Conv2D)           (None, 12, 12, 128)       73856     \n",
            "_________________________________________________________________\n",
            "batch_normalization_14 (Batc (None, 12, 12, 128)       512       \n",
            "_________________________________________________________________\n",
            "conv2d_16 (Conv2D)           (None, 12, 12, 128)       147584    \n",
            "_________________________________________________________________\n",
            "batch_normalization_15 (Batc (None, 12, 12, 128)       512       \n",
            "_________________________________________________________________\n",
            "average_pooling2d_1 (Average (None, 6, 6, 128)         0         \n",
            "_________________________________________________________________\n",
            "dropout_6 (Dropout)          (None, 6, 6, 128)         0         \n",
            "_________________________________________________________________\n",
            "flatten_2 (Flatten)          (None, 4608)              0         \n",
            "_________________________________________________________________\n",
            "dense_4 (Dense)              (None, 1024)              4719616   \n",
            "_________________________________________________________________\n",
            "batch_normalization_16 (Batc (None, 1024)              4096      \n",
            "_________________________________________________________________\n",
            "dropout_7 (Dropout)          (None, 1024)              0         \n",
            "_________________________________________________________________\n",
            "dense_5 (Dense)              (None, 7)                 7175      \n",
            "=================================================================\n",
            "Total params: 5,019,111\n",
            "Trainable params: 5,016,167\n",
            "Non-trainable params: 2,944\n",
            "_________________________________________________________________\n"
          ],
          "name": "stdout"
        }
      ]
    },
    {
      "cell_type": "code",
      "metadata": {
        "trusted": true,
        "id": "mAf9dMREGXuL",
        "colab_type": "code",
        "colab": {},
        "outputId": "f22faf56-c01b-4071-9e93-592c0ddbe6d7"
      },
      "source": [
        "history = cnn_model.fit(datagen.flow(x_train, y_train, batch_size=64), epochs=100, validation_data=(x_test, y_test), verbose=1)"
      ],
      "execution_count": null,
      "outputs": [
        {
          "output_type": "stream",
          "text": [
            "Epoch 1/100\n",
            "505/505 [==============================] - 18s 36ms/step - loss: 2.2310 - accuracy: 0.2463 - val_loss: 1.6752 - val_accuracy: 0.3486\n",
            "Epoch 2/100\n",
            "505/505 [==============================] - 17s 34ms/step - loss: 1.7663 - accuracy: 0.3227 - val_loss: 1.5266 - val_accuracy: 0.4152\n",
            "Epoch 3/100\n",
            "505/505 [==============================] - 17s 34ms/step - loss: 1.6203 - accuracy: 0.3791 - val_loss: 1.4168 - val_accuracy: 0.4581\n",
            "Epoch 4/100\n",
            "505/505 [==============================] - 18s 36ms/step - loss: 1.5173 - accuracy: 0.4210 - val_loss: 1.4797 - val_accuracy: 0.4639\n",
            "Epoch 5/100\n",
            "505/505 [==============================] - 17s 34ms/step - loss: 1.4258 - accuracy: 0.4515 - val_loss: 1.2614 - val_accuracy: 0.5188\n",
            "Epoch 6/100\n",
            "505/505 [==============================] - 17s 33ms/step - loss: 1.3666 - accuracy: 0.4771 - val_loss: 1.2599 - val_accuracy: 0.5177\n",
            "Epoch 7/100\n",
            "505/505 [==============================] - 17s 34ms/step - loss: 1.3208 - accuracy: 0.4995 - val_loss: 1.2382 - val_accuracy: 0.5286\n",
            "Epoch 8/100\n",
            "505/505 [==============================] - 18s 36ms/step - loss: 1.2958 - accuracy: 0.5037 - val_loss: 1.2132 - val_accuracy: 0.5280\n",
            "Epoch 9/100\n",
            "505/505 [==============================] - 17s 34ms/step - loss: 1.2667 - accuracy: 0.5198 - val_loss: 1.1921 - val_accuracy: 0.5520\n",
            "Epoch 10/100\n",
            "505/505 [==============================] - 17s 34ms/step - loss: 1.2447 - accuracy: 0.5277 - val_loss: 1.2128 - val_accuracy: 0.5302\n",
            "Epoch 11/100\n",
            "505/505 [==============================] - 18s 36ms/step - loss: 1.2282 - accuracy: 0.5342 - val_loss: 1.1586 - val_accuracy: 0.5522\n",
            "Epoch 12/100\n",
            "505/505 [==============================] - 17s 34ms/step - loss: 1.2085 - accuracy: 0.5392 - val_loss: 1.1071 - val_accuracy: 0.5692\n",
            "Epoch 13/100\n",
            "505/505 [==============================] - 17s 34ms/step - loss: 1.1905 - accuracy: 0.5479 - val_loss: 1.1486 - val_accuracy: 0.5639\n",
            "Epoch 14/100\n",
            "505/505 [==============================] - 18s 35ms/step - loss: 1.1808 - accuracy: 0.5484 - val_loss: 1.0749 - val_accuracy: 0.5890\n",
            "Epoch 15/100\n",
            "505/505 [==============================] - 17s 34ms/step - loss: 1.1718 - accuracy: 0.5558 - val_loss: 1.1345 - val_accuracy: 0.5720\n",
            "Epoch 16/100\n",
            "505/505 [==============================] - 17s 34ms/step - loss: 1.1553 - accuracy: 0.5624 - val_loss: 1.0997 - val_accuracy: 0.5804\n",
            "Epoch 17/100\n",
            "505/505 [==============================] - 17s 33ms/step - loss: 1.1454 - accuracy: 0.5614 - val_loss: 1.1148 - val_accuracy: 0.5762\n",
            "Epoch 18/100\n",
            "505/505 [==============================] - 19s 37ms/step - loss: 1.1359 - accuracy: 0.5688 - val_loss: 1.0379 - val_accuracy: 0.6016\n",
            "Epoch 19/100\n",
            "505/505 [==============================] - 17s 33ms/step - loss: 1.1308 - accuracy: 0.5743 - val_loss: 1.0919 - val_accuracy: 0.5765\n",
            "Epoch 20/100\n",
            "505/505 [==============================] - 17s 34ms/step - loss: 1.1178 - accuracy: 0.5772 - val_loss: 1.0218 - val_accuracy: 0.6096\n",
            "Epoch 21/100\n",
            "505/505 [==============================] - 18s 36ms/step - loss: 1.1104 - accuracy: 0.5785 - val_loss: 1.0558 - val_accuracy: 0.5890\n",
            "Epoch 22/100\n",
            "505/505 [==============================] - 17s 34ms/step - loss: 1.1005 - accuracy: 0.5853 - val_loss: 1.0131 - val_accuracy: 0.6046\n",
            "Epoch 23/100\n",
            "505/505 [==============================] - 17s 34ms/step - loss: 1.0902 - accuracy: 0.5899 - val_loss: 1.0569 - val_accuracy: 0.5907\n",
            "Epoch 24/100\n",
            "505/505 [==============================] - 17s 33ms/step - loss: 1.0892 - accuracy: 0.5886 - val_loss: 1.0387 - val_accuracy: 0.5971\n",
            "Epoch 25/100\n",
            "505/505 [==============================] - 18s 36ms/step - loss: 1.0795 - accuracy: 0.5930 - val_loss: 1.0382 - val_accuracy: 0.6007\n",
            "Epoch 26/100\n",
            "505/505 [==============================] - 17s 33ms/step - loss: 1.0699 - accuracy: 0.5961 - val_loss: 1.0140 - val_accuracy: 0.6124\n",
            "Epoch 27/100\n",
            "505/505 [==============================] - 17s 34ms/step - loss: 1.0717 - accuracy: 0.5938 - val_loss: 1.0492 - val_accuracy: 0.5982\n",
            "Epoch 28/100\n",
            "505/505 [==============================] - 18s 36ms/step - loss: 1.0656 - accuracy: 0.5988 - val_loss: 1.0006 - val_accuracy: 0.6088\n",
            "Epoch 29/100\n",
            "505/505 [==============================] - 17s 33ms/step - loss: 1.0623 - accuracy: 0.5982 - val_loss: 1.0094 - val_accuracy: 0.6057\n",
            "Epoch 30/100\n",
            "505/505 [==============================] - 17s 35ms/step - loss: 1.0506 - accuracy: 0.6028 - val_loss: 1.0384 - val_accuracy: 0.5935\n",
            "Epoch 31/100\n",
            "505/505 [==============================] - 17s 34ms/step - loss: 1.0474 - accuracy: 0.6085 - val_loss: 1.0025 - val_accuracy: 0.6266\n",
            "Epoch 32/100\n",
            "505/505 [==============================] - 18s 36ms/step - loss: 1.0463 - accuracy: 0.6050 - val_loss: 1.0019 - val_accuracy: 0.6105\n",
            "Epoch 33/100\n",
            "505/505 [==============================] - 17s 33ms/step - loss: 1.0367 - accuracy: 0.6094 - val_loss: 1.0055 - val_accuracy: 0.6158\n",
            "Epoch 34/100\n",
            "505/505 [==============================] - 17s 33ms/step - loss: 1.0350 - accuracy: 0.6100 - val_loss: 1.0210 - val_accuracy: 0.5999\n",
            "Epoch 35/100\n",
            "505/505 [==============================] - 18s 36ms/step - loss: 1.0317 - accuracy: 0.6096 - val_loss: 0.9783 - val_accuracy: 0.6336\n",
            "Epoch 36/100\n",
            "505/505 [==============================] - 17s 34ms/step - loss: 1.0241 - accuracy: 0.6117 - val_loss: 0.9866 - val_accuracy: 0.6208\n",
            "Epoch 37/100\n",
            "505/505 [==============================] - 17s 34ms/step - loss: 1.0214 - accuracy: 0.6173 - val_loss: 1.0296 - val_accuracy: 0.6188\n",
            "Epoch 38/100\n",
            "505/505 [==============================] - 17s 34ms/step - loss: 1.0152 - accuracy: 0.6148 - val_loss: 0.9604 - val_accuracy: 0.6297\n",
            "Epoch 39/100\n",
            "505/505 [==============================] - 18s 35ms/step - loss: 1.0190 - accuracy: 0.6153 - val_loss: 0.9945 - val_accuracy: 0.6191\n",
            "Epoch 40/100\n",
            "505/505 [==============================] - 17s 34ms/step - loss: 1.0130 - accuracy: 0.6168 - val_loss: 1.0169 - val_accuracy: 0.6021\n",
            "Epoch 41/100\n",
            "505/505 [==============================] - 17s 34ms/step - loss: 1.0070 - accuracy: 0.6215 - val_loss: 0.9978 - val_accuracy: 0.6180\n",
            "Epoch 42/100\n",
            "505/505 [==============================] - 18s 36ms/step - loss: 1.0081 - accuracy: 0.6199 - val_loss: 0.9711 - val_accuracy: 0.6252\n",
            "Epoch 43/100\n",
            "505/505 [==============================] - 17s 34ms/step - loss: 1.0024 - accuracy: 0.6233 - val_loss: 0.9583 - val_accuracy: 0.6314\n",
            "Epoch 44/100\n",
            "505/505 [==============================] - 17s 34ms/step - loss: 1.0011 - accuracy: 0.6235 - val_loss: 0.9742 - val_accuracy: 0.6300\n",
            "Epoch 45/100\n",
            "505/505 [==============================] - 18s 35ms/step - loss: 1.0019 - accuracy: 0.6235 - val_loss: 0.9776 - val_accuracy: 0.6258\n",
            "Epoch 46/100\n",
            "505/505 [==============================] - 17s 34ms/step - loss: 0.9936 - accuracy: 0.6272 - val_loss: 0.9856 - val_accuracy: 0.6194\n",
            "Epoch 47/100\n",
            "505/505 [==============================] - 17s 33ms/step - loss: 0.9917 - accuracy: 0.6290 - val_loss: 0.9853 - val_accuracy: 0.6278\n",
            "Epoch 48/100\n",
            "505/505 [==============================] - 17s 34ms/step - loss: 0.9891 - accuracy: 0.6280 - val_loss: 1.0166 - val_accuracy: 0.6199\n",
            "Epoch 49/100\n",
            "505/505 [==============================] - 18s 36ms/step - loss: 0.9874 - accuracy: 0.6292 - val_loss: 0.9523 - val_accuracy: 0.6397\n",
            "Epoch 50/100\n",
            "505/505 [==============================] - 17s 33ms/step - loss: 0.9820 - accuracy: 0.6304 - val_loss: 0.9672 - val_accuracy: 0.6314\n",
            "Epoch 51/100\n",
            "505/505 [==============================] - 17s 34ms/step - loss: 0.9782 - accuracy: 0.6344 - val_loss: 0.9908 - val_accuracy: 0.6272\n",
            "Epoch 52/100\n",
            "505/505 [==============================] - 18s 36ms/step - loss: 0.9809 - accuracy: 0.6325 - val_loss: 0.9790 - val_accuracy: 0.6322\n",
            "Epoch 53/100\n",
            "505/505 [==============================] - 17s 34ms/step - loss: 0.9785 - accuracy: 0.6335 - val_loss: 0.9771 - val_accuracy: 0.6289\n",
            "Epoch 54/100\n",
            "505/505 [==============================] - 17s 34ms/step - loss: 0.9689 - accuracy: 0.6337 - val_loss: 0.9415 - val_accuracy: 0.6389\n",
            "Epoch 55/100\n",
            "505/505 [==============================] - 17s 34ms/step - loss: 0.9685 - accuracy: 0.6386 - val_loss: 0.9725 - val_accuracy: 0.6303\n",
            "Epoch 56/100\n",
            "505/505 [==============================] - 18s 36ms/step - loss: 0.9655 - accuracy: 0.6358 - val_loss: 0.9457 - val_accuracy: 0.6369\n",
            "Epoch 57/100\n"
          ],
          "name": "stdout"
        },
        {
          "output_type": "stream",
          "text": [
            "505/505 [==============================] - 17s 34ms/step - loss: 0.9689 - accuracy: 0.6350 - val_loss: 0.9339 - val_accuracy: 0.6498\n",
            "Epoch 58/100\n",
            "505/505 [==============================] - 17s 34ms/step - loss: 0.9597 - accuracy: 0.6403 - val_loss: 0.9151 - val_accuracy: 0.6514\n",
            "Epoch 59/100\n",
            "505/505 [==============================] - 18s 35ms/step - loss: 0.9657 - accuracy: 0.6406 - val_loss: 0.9541 - val_accuracy: 0.6445\n",
            "Epoch 60/100\n",
            "505/505 [==============================] - 17s 34ms/step - loss: 0.9560 - accuracy: 0.6416 - val_loss: 0.9392 - val_accuracy: 0.6450\n",
            "Epoch 61/100\n",
            "505/505 [==============================] - 18s 35ms/step - loss: 0.9561 - accuracy: 0.6401 - val_loss: 0.9363 - val_accuracy: 0.6464\n",
            "Epoch 62/100\n",
            "505/505 [==============================] - 18s 35ms/step - loss: 0.9514 - accuracy: 0.6429 - val_loss: 1.0024 - val_accuracy: 0.6230\n",
            "Epoch 63/100\n",
            "505/505 [==============================] - 18s 36ms/step - loss: 0.9503 - accuracy: 0.6427 - val_loss: 0.9658 - val_accuracy: 0.6367\n",
            "Epoch 64/100\n",
            "505/505 [==============================] - 17s 34ms/step - loss: 0.9530 - accuracy: 0.6429 - val_loss: 0.9543 - val_accuracy: 0.6356\n",
            "Epoch 65/100\n",
            "505/505 [==============================] - 17s 33ms/step - loss: 0.9512 - accuracy: 0.6422 - val_loss: 0.9233 - val_accuracy: 0.6425\n",
            "Epoch 66/100\n",
            "505/505 [==============================] - 19s 37ms/step - loss: 0.9511 - accuracy: 0.6433 - val_loss: 0.9664 - val_accuracy: 0.6308\n",
            "Epoch 67/100\n",
            "505/505 [==============================] - 17s 34ms/step - loss: 0.9403 - accuracy: 0.6481 - val_loss: 0.9689 - val_accuracy: 0.6361\n",
            "Epoch 68/100\n",
            "505/505 [==============================] - 18s 35ms/step - loss: 0.9443 - accuracy: 0.6437 - val_loss: 0.9221 - val_accuracy: 0.6548\n",
            "Epoch 69/100\n",
            "505/505 [==============================] - 18s 35ms/step - loss: 0.9442 - accuracy: 0.6425 - val_loss: 0.9392 - val_accuracy: 0.6445\n",
            "Epoch 70/100\n",
            "505/505 [==============================] - 18s 35ms/step - loss: 0.9404 - accuracy: 0.6433 - val_loss: 0.9676 - val_accuracy: 0.6350\n",
            "Epoch 71/100\n",
            "505/505 [==============================] - 17s 34ms/step - loss: 0.9381 - accuracy: 0.6453 - val_loss: 0.9243 - val_accuracy: 0.6525\n",
            "Epoch 72/100\n",
            "505/505 [==============================] - 17s 34ms/step - loss: 0.9341 - accuracy: 0.6507 - val_loss: 0.9347 - val_accuracy: 0.6506\n",
            "Epoch 73/100\n",
            "505/505 [==============================] - 19s 37ms/step - loss: 0.9379 - accuracy: 0.6474 - val_loss: 0.9339 - val_accuracy: 0.6559\n",
            "Epoch 74/100\n",
            "505/505 [==============================] - 17s 34ms/step - loss: 0.9325 - accuracy: 0.6513 - val_loss: 0.9255 - val_accuracy: 0.6570\n",
            "Epoch 75/100\n",
            "505/505 [==============================] - 17s 33ms/step - loss: 0.9340 - accuracy: 0.6500 - val_loss: 0.9200 - val_accuracy: 0.6598\n",
            "Epoch 76/100\n",
            "505/505 [==============================] - 18s 36ms/step - loss: 0.9302 - accuracy: 0.6493 - val_loss: 0.9590 - val_accuracy: 0.6428\n",
            "Epoch 77/100\n",
            "505/505 [==============================] - 18s 35ms/step - loss: 0.9261 - accuracy: 0.6534 - val_loss: 0.9334 - val_accuracy: 0.6570\n",
            "Epoch 78/100\n",
            "505/505 [==============================] - 17s 34ms/step - loss: 0.9322 - accuracy: 0.6501 - val_loss: 0.9256 - val_accuracy: 0.6523\n",
            "Epoch 79/100\n",
            "505/505 [==============================] - 18s 35ms/step - loss: 0.9312 - accuracy: 0.6525 - val_loss: 0.9060 - val_accuracy: 0.6684\n",
            "Epoch 80/100\n",
            "505/505 [==============================] - 17s 35ms/step - loss: 0.9272 - accuracy: 0.6521 - val_loss: 0.9078 - val_accuracy: 0.6634\n",
            "Epoch 81/100\n",
            "505/505 [==============================] - 18s 35ms/step - loss: 0.9243 - accuracy: 0.6530 - val_loss: 0.9317 - val_accuracy: 0.6481\n",
            "Epoch 82/100\n",
            "505/505 [==============================] - 17s 34ms/step - loss: 0.9187 - accuracy: 0.6555 - val_loss: 0.9199 - val_accuracy: 0.6581\n",
            "Epoch 83/100\n",
            "505/505 [==============================] - 18s 36ms/step - loss: 0.9251 - accuracy: 0.6544 - val_loss: 0.9196 - val_accuracy: 0.6595\n",
            "Epoch 84/100\n",
            "505/505 [==============================] - 18s 35ms/step - loss: 0.9187 - accuracy: 0.6530 - val_loss: 0.9322 - val_accuracy: 0.6514\n",
            "Epoch 85/100\n",
            "505/505 [==============================] - 17s 33ms/step - loss: 0.9225 - accuracy: 0.6561 - val_loss: 0.9337 - val_accuracy: 0.6576\n",
            "Epoch 86/100\n",
            "505/505 [==============================] - 18s 37ms/step - loss: 0.9157 - accuracy: 0.6549 - val_loss: 0.9349 - val_accuracy: 0.6517\n",
            "Epoch 87/100\n",
            "505/505 [==============================] - 17s 35ms/step - loss: 0.9165 - accuracy: 0.6599 - val_loss: 0.9399 - val_accuracy: 0.6467\n",
            "Epoch 88/100\n",
            "505/505 [==============================] - 17s 34ms/step - loss: 0.9185 - accuracy: 0.6562 - val_loss: 0.9184 - val_accuracy: 0.6542\n",
            "Epoch 89/100\n",
            "505/505 [==============================] - 17s 34ms/step - loss: 0.9149 - accuracy: 0.6565 - val_loss: 0.9416 - val_accuracy: 0.6559\n",
            "Epoch 90/100\n",
            "505/505 [==============================] - 18s 36ms/step - loss: 0.9096 - accuracy: 0.6616 - val_loss: 0.9026 - val_accuracy: 0.6654\n",
            "Epoch 91/100\n",
            "505/505 [==============================] - 18s 35ms/step - loss: 0.9063 - accuracy: 0.6620 - val_loss: 0.9267 - val_accuracy: 0.6548\n",
            "Epoch 92/100\n",
            "505/505 [==============================] - 17s 34ms/step - loss: 0.9119 - accuracy: 0.6612 - val_loss: 0.9263 - val_accuracy: 0.6486\n",
            "Epoch 93/100\n",
            "505/505 [==============================] - 18s 37ms/step - loss: 0.9026 - accuracy: 0.6626 - val_loss: 0.9475 - val_accuracy: 0.6548\n",
            "Epoch 94/100\n",
            "505/505 [==============================] - 17s 35ms/step - loss: 0.9075 - accuracy: 0.6604 - val_loss: 0.9041 - val_accuracy: 0.6648\n",
            "Epoch 95/100\n",
            "505/505 [==============================] - 17s 34ms/step - loss: 0.9027 - accuracy: 0.6623 - val_loss: 0.8818 - val_accuracy: 0.6707\n",
            "Epoch 96/100\n",
            "505/505 [==============================] - 18s 36ms/step - loss: 0.9025 - accuracy: 0.6629 - val_loss: 0.9397 - val_accuracy: 0.6489\n",
            "Epoch 97/100\n",
            "505/505 [==============================] - 18s 35ms/step - loss: 0.8916 - accuracy: 0.6642 - val_loss: 0.9088 - val_accuracy: 0.6548\n",
            "Epoch 98/100\n",
            "505/505 [==============================] - 17s 34ms/step - loss: 0.9055 - accuracy: 0.6572 - val_loss: 0.9210 - val_accuracy: 0.6528\n",
            "Epoch 99/100\n",
            "505/505 [==============================] - 17s 34ms/step - loss: 0.8988 - accuracy: 0.6647 - val_loss: 0.9020 - val_accuracy: 0.6598\n",
            "Epoch 100/100\n",
            "505/505 [==============================] - 18s 36ms/step - loss: 0.8956 - accuracy: 0.6644 - val_loss: 0.9416 - val_accuracy: 0.6523\n"
          ],
          "name": "stdout"
        }
      ]
    },
    {
      "cell_type": "markdown",
      "metadata": {
        "id": "rwcW7fXIGr74",
        "colab_type": "text"
      },
      "source": [
        "validation accuracy-65.23 %, validation loss-0.9416"
      ]
    }
  ]
}
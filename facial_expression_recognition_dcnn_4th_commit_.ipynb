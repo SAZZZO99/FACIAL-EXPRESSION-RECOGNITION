{
  "nbformat": 4,
  "nbformat_minor": 0,
  "metadata": {
    "kernelspec": {
      "name": "python3",
      "display_name": "Python 3",
      "language": "python"
    },
    "language_info": {
      "name": "python",
      "version": "3.7.6",
      "mimetype": "text/x-python",
      "codemirror_mode": {
        "name": "ipython",
        "version": 3
      },
      "pygments_lexer": "ipython3",
      "nbconvert_exporter": "python",
      "file_extension": ".py"
    },
    "colab": {
      "name": "facial-expression-recognition-dcnn-4th-commit-.ipynb",
      "provenance": []
    }
  },
  "cells": [
    {
      "cell_type": "code",
      "metadata": {
        "_uuid": "8f2839f25d086af736a60e9eeb907d3b93b6e0e5",
        "_cell_guid": "b1076dfc-b9ad-4769-8c92-a6c4dae69d19",
        "trusted": true,
        "id": "bPJGyExcNSd8",
        "colab_type": "code",
        "colab": {}
      },
      "source": [
        "import numpy as np\n",
        "import pandas as pd"
      ],
      "execution_count": null,
      "outputs": []
    },
    {
      "cell_type": "code",
      "metadata": {
        "trusted": true,
        "id": "zVS3ExFgNSeA",
        "colab_type": "code",
        "colab": {},
        "outputId": "309dd602-56f5-4639-a94c-8e21c4f7c25e"
      },
      "source": [
        "import os\n",
        "for dirname, _, filenames in os.walk('/kaggle/input'):\n",
        "    for filename in filenames:\n",
        "        print(os.path.join(dirname, filename))"
      ],
      "execution_count": null,
      "outputs": [
        {
          "output_type": "stream",
          "text": [
            "/kaggle/input/facial-expression-recognitionferchallenge/Submission.csv\n",
            "/kaggle/input/facial-expression-recognitionferchallenge/fer2013/fer2013/fer2013.bib\n",
            "/kaggle/input/facial-expression-recognitionferchallenge/fer2013/fer2013/fer2013.csv\n",
            "/kaggle/input/facial-expression-recognitionferchallenge/fer2013/fer2013/README\n"
          ],
          "name": "stdout"
        }
      ]
    },
    {
      "cell_type": "code",
      "metadata": {
        "trusted": true,
        "id": "YEhkn5O4NSeE",
        "colab_type": "code",
        "colab": {}
      },
      "source": [
        "import pandas as pd\n",
        "import numpy as np\n",
        "import matplotlib.pyplot as plt\n",
        "\n",
        "import tensorflow as tf\n",
        "from tensorflow.keras.models import Sequential\n",
        "\n",
        "from tensorflow.keras.utils import to_categorical\n",
        "from tensorflow.keras.preprocessing.image import ImageDataGenerator\n",
        "from tensorflow.keras.optimizers import RMSprop\n",
        "from keras.preprocessing import image\n",
        "\n",
        "from tensorflow.keras.layers import Conv2D,Dense,AveragePooling2D,MaxPooling2D, Flatten, Dropout \n",
        "from tensorflow.keras.optimizers import Adam\n",
        "from tensorflow.keras.callbacks import TensorBoard\n",
        "from tensorflow.keras.layers import BatchNormalization\n",
        "\n",
        "from sklearn.model_selection import train_test_split"
      ],
      "execution_count": null,
      "outputs": []
    },
    {
      "cell_type": "code",
      "metadata": {
        "trusted": true,
        "id": "4-5tNq7DNSeG",
        "colab_type": "code",
        "colab": {},
        "outputId": "4dcd1b3c-0dfc-48fd-a61e-f9232c777d57"
      },
      "source": [
        "import os\n",
        "print(os.listdir(\"../input\"))\n",
        "data = pd.read_csv('/kaggle/input/facial-expression-recognitionferchallenge/fer2013/fer2013/fer2013.csv')\n",
        "data.shape"
      ],
      "execution_count": null,
      "outputs": [
        {
          "output_type": "stream",
          "text": [
            "['facial-expression-recognitionferchallenge']\n"
          ],
          "name": "stdout"
        },
        {
          "output_type": "execute_result",
          "data": {
            "text/plain": [
              "(35887, 3)"
            ]
          },
          "metadata": {
            "tags": []
          },
          "execution_count": 4
        }
      ]
    },
    {
      "cell_type": "code",
      "metadata": {
        "trusted": true,
        "id": "DqG21BA2NSeJ",
        "colab_type": "code",
        "colab": {},
        "outputId": "17b0d269-24d8-449d-8bab-fa7dec72b209"
      },
      "source": [
        "data.head()"
      ],
      "execution_count": null,
      "outputs": [
        {
          "output_type": "execute_result",
          "data": {
            "text/plain": [
              "   emotion                                             pixels     Usage\n",
              "0        0  70 80 82 72 58 58 60 63 54 58 60 48 89 115 121...  Training\n",
              "1        0  151 150 147 155 148 133 111 140 170 174 182 15...  Training\n",
              "2        2  231 212 156 164 174 138 161 173 182 200 106 38...  Training\n",
              "3        4  24 32 36 30 32 23 19 20 30 41 21 22 32 34 21 1...  Training\n",
              "4        6  4 0 0 0 0 0 0 0 0 0 0 0 3 15 23 28 48 50 58 84...  Training"
            ],
            "text/html": [
              "<div>\n",
              "<style scoped>\n",
              "    .dataframe tbody tr th:only-of-type {\n",
              "        vertical-align: middle;\n",
              "    }\n",
              "\n",
              "    .dataframe tbody tr th {\n",
              "        vertical-align: top;\n",
              "    }\n",
              "\n",
              "    .dataframe thead th {\n",
              "        text-align: right;\n",
              "    }\n",
              "</style>\n",
              "<table border=\"1\" class=\"dataframe\">\n",
              "  <thead>\n",
              "    <tr style=\"text-align: right;\">\n",
              "      <th></th>\n",
              "      <th>emotion</th>\n",
              "      <th>pixels</th>\n",
              "      <th>Usage</th>\n",
              "    </tr>\n",
              "  </thead>\n",
              "  <tbody>\n",
              "    <tr>\n",
              "      <th>0</th>\n",
              "      <td>0</td>\n",
              "      <td>70 80 82 72 58 58 60 63 54 58 60 48 89 115 121...</td>\n",
              "      <td>Training</td>\n",
              "    </tr>\n",
              "    <tr>\n",
              "      <th>1</th>\n",
              "      <td>0</td>\n",
              "      <td>151 150 147 155 148 133 111 140 170 174 182 15...</td>\n",
              "      <td>Training</td>\n",
              "    </tr>\n",
              "    <tr>\n",
              "      <th>2</th>\n",
              "      <td>2</td>\n",
              "      <td>231 212 156 164 174 138 161 173 182 200 106 38...</td>\n",
              "      <td>Training</td>\n",
              "    </tr>\n",
              "    <tr>\n",
              "      <th>3</th>\n",
              "      <td>4</td>\n",
              "      <td>24 32 36 30 32 23 19 20 30 41 21 22 32 34 21 1...</td>\n",
              "      <td>Training</td>\n",
              "    </tr>\n",
              "    <tr>\n",
              "      <th>4</th>\n",
              "      <td>6</td>\n",
              "      <td>4 0 0 0 0 0 0 0 0 0 0 0 3 15 23 28 48 50 58 84...</td>\n",
              "      <td>Training</td>\n",
              "    </tr>\n",
              "  </tbody>\n",
              "</table>\n",
              "</div>"
            ]
          },
          "metadata": {
            "tags": []
          },
          "execution_count": 5
        }
      ]
    },
    {
      "cell_type": "code",
      "metadata": {
        "trusted": true,
        "id": "1Xz9A15mNSeM",
        "colab_type": "code",
        "colab": {},
        "outputId": "2b108179-8982-4a0f-93b1-3091784425af"
      },
      "source": [
        "data.Usage.value_counts()"
      ],
      "execution_count": null,
      "outputs": [
        {
          "output_type": "execute_result",
          "data": {
            "text/plain": [
              "Training       28709\n",
              "PublicTest      3589\n",
              "PrivateTest     3589\n",
              "Name: Usage, dtype: int64"
            ]
          },
          "metadata": {
            "tags": []
          },
          "execution_count": 6
        }
      ]
    },
    {
      "cell_type": "code",
      "metadata": {
        "trusted": true,
        "id": "iEHP_aDrNSeP",
        "colab_type": "code",
        "colab": {},
        "outputId": "6b45d424-9e7f-4535-bbbb-e2d8a280617e"
      },
      "source": [
        "emotion_map = {0: ' Angry', 1: 'Digust', 2: 'Fear', 3: 'Happy', 4: 'Sad', 5: 'Surprise', 6: 'Neutral'}\n",
        "emotion_counts = data['emotion'].value_counts(sort=False).reset_index()\n",
        "emotion_counts.columns = ['emotion', 'number']\n",
        "emotion_counts['emotion'] = emotion_counts['emotion'].map(emotion_map)\n",
        "emotion_counts"
      ],
      "execution_count": null,
      "outputs": [
        {
          "output_type": "execute_result",
          "data": {
            "text/plain": [
              "    emotion  number\n",
              "0     Angry    4953\n",
              "1    Digust     547\n",
              "2      Fear    5121\n",
              "3     Happy    8989\n",
              "4       Sad    6077\n",
              "5  Surprise    4002\n",
              "6   Neutral    6198"
            ],
            "text/html": [
              "<div>\n",
              "<style scoped>\n",
              "    .dataframe tbody tr th:only-of-type {\n",
              "        vertical-align: middle;\n",
              "    }\n",
              "\n",
              "    .dataframe tbody tr th {\n",
              "        vertical-align: top;\n",
              "    }\n",
              "\n",
              "    .dataframe thead th {\n",
              "        text-align: right;\n",
              "    }\n",
              "</style>\n",
              "<table border=\"1\" class=\"dataframe\">\n",
              "  <thead>\n",
              "    <tr style=\"text-align: right;\">\n",
              "      <th></th>\n",
              "      <th>emotion</th>\n",
              "      <th>number</th>\n",
              "    </tr>\n",
              "  </thead>\n",
              "  <tbody>\n",
              "    <tr>\n",
              "      <th>0</th>\n",
              "      <td>Angry</td>\n",
              "      <td>4953</td>\n",
              "    </tr>\n",
              "    <tr>\n",
              "      <th>1</th>\n",
              "      <td>Digust</td>\n",
              "      <td>547</td>\n",
              "    </tr>\n",
              "    <tr>\n",
              "      <th>2</th>\n",
              "      <td>Fear</td>\n",
              "      <td>5121</td>\n",
              "    </tr>\n",
              "    <tr>\n",
              "      <th>3</th>\n",
              "      <td>Happy</td>\n",
              "      <td>8989</td>\n",
              "    </tr>\n",
              "    <tr>\n",
              "      <th>4</th>\n",
              "      <td>Sad</td>\n",
              "      <td>6077</td>\n",
              "    </tr>\n",
              "    <tr>\n",
              "      <th>5</th>\n",
              "      <td>Surprise</td>\n",
              "      <td>4002</td>\n",
              "    </tr>\n",
              "    <tr>\n",
              "      <th>6</th>\n",
              "      <td>Neutral</td>\n",
              "      <td>6198</td>\n",
              "    </tr>\n",
              "  </tbody>\n",
              "</table>\n",
              "</div>"
            ]
          },
          "metadata": {
            "tags": []
          },
          "execution_count": 7
        }
      ]
    },
    {
      "cell_type": "code",
      "metadata": {
        "trusted": true,
        "id": "aqRXhYrXNSeS",
        "colab_type": "code",
        "colab": {},
        "outputId": "c8a89143-bc32-411d-83be-d221ecfdbf01"
      },
      "source": [
        "plt.figure(figsize=(6, 4))\n",
        "plt.bar(emotion_counts.emotion, emotion_counts.number)\n",
        "plt.title('Class distribution')\n",
        "plt.xlabel('Emotions', fontsize=12)\n",
        "plt.ylabel('Number', fontsize=12)\n",
        "plt.show()"
      ],
      "execution_count": null,
      "outputs": [
        {
          "output_type": "display_data",
          "data": {
            "text/plain": [
              "<Figure size 432x288 with 1 Axes>"
            ],
            "image/png": "[encoded data removed]"
          },
          "metadata": {
            "tags": [],
            "needs_background": "light"
          }
        }
      ]
    },
    {
      "cell_type": "code",
      "metadata": {
        "trusted": true,
        "id": "cLJcoK5DNSeW",
        "colab_type": "code",
        "colab": {}
      },
      "source": [
        "x = []\n",
        "y = []\n",
        "first = True\n",
        "for line in open(\"/kaggle/input/facial-expression-recognitionferchallenge/fer2013/fer2013/fer2013.csv\"):\n",
        "    if first:\n",
        "        first = False\n",
        "    else:\n",
        "        row = line.split(',')\n",
        "        x.append([int(p) for p in row[1].split()])\n",
        "        y.append(int(row[0]))\n",
        "x, y = np.array(x) / 255.0, np.array(y)"
      ],
      "execution_count": null,
      "outputs": []
    },
    {
      "cell_type": "code",
      "metadata": {
        "trusted": true,
        "id": "T1OdV2uqNSeY",
        "colab_type": "code",
        "colab": {}
      },
      "source": [
        "x = x.reshape(-1, 48, 48, 1)"
      ],
      "execution_count": null,
      "outputs": []
    },
    {
      "cell_type": "code",
      "metadata": {
        "trusted": true,
        "id": "itWM7WRyNSea",
        "colab_type": "code",
        "colab": {}
      },
      "source": [
        "x_train, x_test, y_train, y_test = train_test_split(x, y, test_size=0.1, random_state=0)"
      ],
      "execution_count": null,
      "outputs": []
    },
    {
      "cell_type": "code",
      "metadata": {
        "trusted": true,
        "id": "A2IV37PVNSee",
        "colab_type": "code",
        "colab": {}
      },
      "source": [
        "num_class = len(set(y))\n",
        "y_train = (np.arange(num_class) == y_train[:, None]).astype(np.float32)\n",
        "y_test = (np.arange(num_class) == y_test[:, None]).astype(np.float32)"
      ],
      "execution_count": null,
      "outputs": []
    },
    {
      "cell_type": "code",
      "metadata": {
        "trusted": true,
        "id": "k5fsXPkXNSeg",
        "colab_type": "code",
        "colab": {}
      },
      "source": [
        "datagen = ImageDataGenerator(\n",
        "    zoom_range = 0.1,\n",
        "    height_shift_range = 0.1,\n",
        "    width_shift_range = 0.1,\n",
        "    rotation_range = 10,\n",
        "    horizontal_flip = True,\n",
        "    vertical_flip = True\n",
        ")"
      ],
      "execution_count": null,
      "outputs": []
    },
    {
      "cell_type": "code",
      "metadata": {
        "trusted": true,
        "id": "mQVRbrC4NSei",
        "colab_type": "code",
        "colab": {}
      },
      "source": [
        "datagen.fit(x_train)"
      ],
      "execution_count": null,
      "outputs": []
    },
    {
      "cell_type": "code",
      "metadata": {
        "trusted": true,
        "id": "sEaxf__bNSel",
        "colab_type": "code",
        "colab": {},
        "outputId": "bca3ba69-a14a-49d2-98f9-4d3e1f7a2286"
      },
      "source": [
        "cnn_model = Sequential()\n",
        "\n",
        "Input_shape = (48, 48, 1)\n",
        "\n",
        "cnn_model = Sequential()\n",
        "\n",
        "\n",
        "cnn_model.add(Conv2D(filters = 64, kernel_size = (3,3), activation = 'elu', kernel_initializer='he_normal', padding='same',input_shape = Input_shape))\n",
        "cnn_model.add(BatchNormalization())\n",
        "cnn_model.add(Conv2D(filters = 64, kernel_size = (3,3), activation = 'elu', kernel_initializer='he_normal',padding='same'))\n",
        "cnn_model.add(BatchNormalization())\n",
        "cnn_model.add(MaxPooling2D(2,2))\n",
        "cnn_model.add(Dropout(0.3))\n",
        "\n",
        "\n",
        "cnn_model.add(Conv2D(filters = 128, kernel_size = (3,3), activation = 'elu', kernel_initializer='he_normal',padding='same'))\n",
        "cnn_model.add(BatchNormalization())\n",
        "cnn_model.add(Conv2D(filters = 128, kernel_size = (3,3), activation = 'elu', kernel_initializer='he_normal',padding='same'))\n",
        "cnn_model.add(BatchNormalization())\n",
        "cnn_model.add(MaxPooling2D(2,2))\n",
        "cnn_model.add(Dropout(0.4))\n",
        "\n",
        "cnn_model.add(Conv2D(filters = 256, kernel_size = (3,3), activation = 'elu', kernel_initializer='he_normal',padding='same'))\n",
        "cnn_model.add(BatchNormalization())\n",
        "cnn_model.add(Conv2D(filters = 256, kernel_size = (3,3), activation = 'elu', kernel_initializer='he_normal',padding='same'))\n",
        "cnn_model.add(BatchNormalization())\n",
        "cnn_model.add(MaxPooling2D(2,2))\n",
        "cnn_model.add(Dropout(0.5))\n",
        "\n",
        "\n",
        "cnn_model.add(Flatten())\n",
        "\n",
        "cnn_model.add(Dense(units = 1024, activation = 'relu', kernel_initializer='he_uniform'))\n",
        "cnn_model.add(BatchNormalization())\n",
        "cnn_model.add(Dropout(0.5))\n",
        "\n",
        "cnn_model.add(Dense(units = 512, activation = 'relu', kernel_initializer='he_uniform'))\n",
        "cnn_model.add(BatchNormalization())\n",
        "cnn_model.add(Dropout(0.3))\n",
        "\n",
        "cnn_model.add(Dense(units = 256, activation = 'relu', kernel_initializer='he_uniform'))\n",
        "cnn_model.add(BatchNormalization())\n",
        "\n",
        "cnn_model.add(Dense(units = 7, activation = 'softmax'))\n",
        "\n",
        "cnn_model.compile(loss = 'categorical_crossentropy', optimizer = Adam(lr=0.001,beta_1=0.9,beta_2=0.999), metrics = ['accuracy'])\n",
        "cnn_model.summary()"
      ],
      "execution_count": null,
      "outputs": [
        {
          "output_type": "stream",
          "text": [
            "Model: \"sequential_1\"\n",
            "_________________________________________________________________\n",
            "Layer (type)                 Output Shape              Param #   \n",
            "=================================================================\n",
            "conv2d (Conv2D)              (None, 48, 48, 64)        640       \n",
            "_________________________________________________________________\n",
            "batch_normalization (BatchNo (None, 48, 48, 64)        256       \n",
            "_________________________________________________________________\n",
            "conv2d_1 (Conv2D)            (None, 48, 48, 64)        36928     \n",
            "_________________________________________________________________\n",
            "batch_normalization_1 (Batch (None, 48, 48, 64)        256       \n",
            "_________________________________________________________________\n",
            "max_pooling2d (MaxPooling2D) (None, 24, 24, 64)        0         \n",
            "_________________________________________________________________\n",
            "dropout (Dropout)            (None, 24, 24, 64)        0         \n",
            "_________________________________________________________________\n",
            "conv2d_2 (Conv2D)            (None, 24, 24, 128)       73856     \n",
            "_________________________________________________________________\n",
            "batch_normalization_2 (Batch (None, 24, 24, 128)       512       \n",
            "_________________________________________________________________\n",
            "conv2d_3 (Conv2D)            (None, 24, 24, 128)       147584    \n",
            "_________________________________________________________________\n",
            "batch_normalization_3 (Batch (None, 24, 24, 128)       512       \n",
            "_________________________________________________________________\n",
            "max_pooling2d_1 (MaxPooling2 (None, 12, 12, 128)       0         \n",
            "_________________________________________________________________\n",
            "dropout_1 (Dropout)          (None, 12, 12, 128)       0         \n",
            "_________________________________________________________________\n",
            "conv2d_4 (Conv2D)            (None, 12, 12, 256)       295168    \n",
            "_________________________________________________________________\n",
            "batch_normalization_4 (Batch (None, 12, 12, 256)       1024      \n",
            "_________________________________________________________________\n",
            "conv2d_5 (Conv2D)            (None, 12, 12, 256)       590080    \n",
            "_________________________________________________________________\n",
            "batch_normalization_5 (Batch (None, 12, 12, 256)       1024      \n",
            "_________________________________________________________________\n",
            "max_pooling2d_2 (MaxPooling2 (None, 6, 6, 256)         0         \n",
            "_________________________________________________________________\n",
            "dropout_2 (Dropout)          (None, 6, 6, 256)         0         \n",
            "_________________________________________________________________\n",
            "flatten (Flatten)            (None, 9216)              0         \n",
            "_________________________________________________________________\n",
            "dense (Dense)                (None, 1024)              9438208   \n",
            "_________________________________________________________________\n",
            "batch_normalization_6 (Batch (None, 1024)              4096      \n",
            "_________________________________________________________________\n",
            "dropout_3 (Dropout)          (None, 1024)              0         \n",
            "_________________________________________________________________\n",
            "dense_1 (Dense)              (None, 512)               524800    \n",
            "_________________________________________________________________\n",
            "batch_normalization_7 (Batch (None, 512)               2048      \n",
            "_________________________________________________________________\n",
            "dropout_4 (Dropout)          (None, 512)               0         \n",
            "_________________________________________________________________\n",
            "dense_2 (Dense)              (None, 256)               131328    \n",
            "_________________________________________________________________\n",
            "batch_normalization_8 (Batch (None, 256)               1024      \n",
            "_________________________________________________________________\n",
            "dense_3 (Dense)              (None, 7)                 1799      \n",
            "=================================================================\n",
            "Total params: 11,251,143\n",
            "Trainable params: 11,245,767\n",
            "Non-trainable params: 5,376\n",
            "_________________________________________________________________\n"
          ],
          "name": "stdout"
        }
      ]
    },
    {
      "cell_type": "code",
      "metadata": {
        "trusted": true,
        "id": "3Z9s3_5TNSen",
        "colab_type": "code",
        "colab": {},
        "outputId": "2c8637de-9f8b-4f65-9d86-f55f1d9f077e"
      },
      "source": [
        "history = cnn_model.fit(datagen.flow(x_train, y_train, batch_size=64), epochs=250, validation_data=(x_test, y_test), verbose=1)"
      ],
      "execution_count": null,
      "outputs": [
        {
          "output_type": "stream",
          "text": [
            "Epoch 1/40\n",
            "505/505 [==============================] - 19s 37ms/step - loss: 1.9150 - accuracy: 0.2385 - val_loss: 1.9467 - val_accuracy: 0.2619\n",
            "Epoch 2/40\n",
            "505/505 [==============================] - 18s 36ms/step - loss: 1.7772 - accuracy: 0.2699 - val_loss: 1.7749 - val_accuracy: 0.3104\n",
            "Epoch 3/40\n",
            "505/505 [==============================] - 18s 35ms/step - loss: 1.6593 - accuracy: 0.3405 - val_loss: 1.5700 - val_accuracy: 0.3784\n",
            "Epoch 4/40\n",
            "505/505 [==============================] - 18s 36ms/step - loss: 1.5564 - accuracy: 0.3909 - val_loss: 1.5002 - val_accuracy: 0.4436\n",
            "Epoch 5/40\n",
            "505/505 [==============================] - 18s 35ms/step - loss: 1.4547 - accuracy: 0.4379 - val_loss: 1.3237 - val_accuracy: 0.4982\n",
            "Epoch 6/40\n",
            "505/505 [==============================] - 18s 36ms/step - loss: 1.3811 - accuracy: 0.4686 - val_loss: 1.3454 - val_accuracy: 0.4865\n",
            "Epoch 7/40\n",
            "505/505 [==============================] - 18s 35ms/step - loss: 1.3221 - accuracy: 0.4962 - val_loss: 1.2113 - val_accuracy: 0.5366\n",
            "Epoch 8/40\n",
            "505/505 [==============================] - 18s 35ms/step - loss: 1.2821 - accuracy: 0.5121 - val_loss: 1.1879 - val_accuracy: 0.5358\n",
            "Epoch 9/40\n",
            "505/505 [==============================] - 18s 37ms/step - loss: 1.2472 - accuracy: 0.5264 - val_loss: 1.1952 - val_accuracy: 0.5442\n",
            "Epoch 10/40\n",
            "505/505 [==============================] - 18s 35ms/step - loss: 1.2172 - accuracy: 0.5367 - val_loss: 1.1379 - val_accuracy: 0.5603\n",
            "Epoch 11/40\n",
            "505/505 [==============================] - 18s 35ms/step - loss: 1.2010 - accuracy: 0.5420 - val_loss: 1.1264 - val_accuracy: 0.5584\n",
            "Epoch 12/40\n",
            "505/505 [==============================] - 18s 36ms/step - loss: 1.1720 - accuracy: 0.5542 - val_loss: 1.0820 - val_accuracy: 0.5834\n",
            "Epoch 13/40\n",
            "505/505 [==============================] - 18s 36ms/step - loss: 1.1555 - accuracy: 0.5593 - val_loss: 1.1118 - val_accuracy: 0.5726\n",
            "Epoch 14/40\n",
            "505/505 [==============================] - 18s 35ms/step - loss: 1.1416 - accuracy: 0.5673 - val_loss: 1.0710 - val_accuracy: 0.5857\n",
            "Epoch 15/40\n",
            "505/505 [==============================] - 18s 35ms/step - loss: 1.1288 - accuracy: 0.5721 - val_loss: 1.0694 - val_accuracy: 0.5823\n",
            "Epoch 16/40\n",
            "505/505 [==============================] - 19s 37ms/step - loss: 1.1176 - accuracy: 0.5768 - val_loss: 1.0914 - val_accuracy: 0.5882\n",
            "Epoch 17/40\n",
            "505/505 [==============================] - 18s 35ms/step - loss: 1.1038 - accuracy: 0.5830 - val_loss: 1.1083 - val_accuracy: 0.5779\n",
            "Epoch 18/40\n",
            "505/505 [==============================] - 18s 35ms/step - loss: 1.1030 - accuracy: 0.5806 - val_loss: 1.0218 - val_accuracy: 0.6163\n",
            "Epoch 19/40\n",
            "505/505 [==============================] - 19s 37ms/step - loss: 1.0804 - accuracy: 0.5905 - val_loss: 1.0730 - val_accuracy: 0.5818\n",
            "Epoch 20/40\n",
            "505/505 [==============================] - 18s 35ms/step - loss: 1.0821 - accuracy: 0.5896 - val_loss: 1.0465 - val_accuracy: 0.5907\n",
            "Epoch 21/40\n",
            "505/505 [==============================] - 18s 35ms/step - loss: 1.0681 - accuracy: 0.5977 - val_loss: 0.9988 - val_accuracy: 0.6177\n",
            "Epoch 22/40\n",
            "505/505 [==============================] - 18s 36ms/step - loss: 1.0589 - accuracy: 0.6001 - val_loss: 1.0179 - val_accuracy: 0.6046\n",
            "Epoch 23/40\n",
            "505/505 [==============================] - 18s 36ms/step - loss: 1.0445 - accuracy: 0.6069 - val_loss: 1.0143 - val_accuracy: 0.6102\n",
            "Epoch 24/40\n",
            "505/505 [==============================] - 18s 35ms/step - loss: 1.0492 - accuracy: 0.6056 - val_loss: 1.0038 - val_accuracy: 0.6160\n",
            "Epoch 25/40\n",
            "505/505 [==============================] - 18s 35ms/step - loss: 1.0347 - accuracy: 0.6107 - val_loss: 1.0225 - val_accuracy: 0.6147\n",
            "Epoch 26/40\n",
            "505/505 [==============================] - 19s 37ms/step - loss: 1.0298 - accuracy: 0.6132 - val_loss: 1.0054 - val_accuracy: 0.6127\n",
            "Epoch 27/40\n",
            "505/505 [==============================] - 18s 36ms/step - loss: 1.0246 - accuracy: 0.6135 - val_loss: 0.9879 - val_accuracy: 0.6197\n",
            "Epoch 28/40\n",
            "505/505 [==============================] - 17s 35ms/step - loss: 1.0222 - accuracy: 0.6150 - val_loss: 1.0062 - val_accuracy: 0.6244\n",
            "Epoch 29/40\n",
            "505/505 [==============================] - 18s 36ms/step - loss: 1.0123 - accuracy: 0.6160 - val_loss: 0.9799 - val_accuracy: 0.6291\n",
            "Epoch 30/40\n",
            "505/505 [==============================] - 18s 36ms/step - loss: 1.0050 - accuracy: 0.6226 - val_loss: 0.9940 - val_accuracy: 0.6230\n",
            "Epoch 31/40\n",
            "505/505 [==============================] - 17s 35ms/step - loss: 1.0065 - accuracy: 0.6211 - val_loss: 0.9746 - val_accuracy: 0.6286 - ETA: 0s - loss: 1.0066 - accuracy: 0.\n",
            "Epoch 32/40\n",
            "505/505 [==============================] - 18s 36ms/step - loss: 0.9975 - accuracy: 0.6258 - val_loss: 0.9559 - val_accuracy: 0.6356\n",
            "Epoch 33/40\n",
            "505/505 [==============================] - 18s 36ms/step - loss: 0.9910 - accuracy: 0.6272 - val_loss: 1.0116 - val_accuracy: 0.6135\n",
            "Epoch 34/40\n",
            "505/505 [==============================] - 18s 35ms/step - loss: 0.9869 - accuracy: 0.6293 - val_loss: 0.9703 - val_accuracy: 0.6283\n",
            "Epoch 35/40\n",
            "505/505 [==============================] - 18s 35ms/step - loss: 0.9875 - accuracy: 0.6271 - val_loss: 0.9915 - val_accuracy: 0.6252\n",
            "Epoch 36/40\n",
            "505/505 [==============================] - 18s 36ms/step - loss: 0.9767 - accuracy: 0.6329 - val_loss: 0.9602 - val_accuracy: 0.6317\n",
            "Epoch 37/40\n",
            "505/505 [==============================] - 18s 35ms/step - loss: 0.9745 - accuracy: 0.6348 - val_loss: 0.9492 - val_accuracy: 0.6344\n",
            "Epoch 38/40\n",
            "505/505 [==============================] - 18s 35ms/step - loss: 0.9714 - accuracy: 0.6329 - val_loss: 0.9424 - val_accuracy: 0.6420\n",
            "Epoch 39/40\n",
            "505/505 [==============================] - 18s 36ms/step - loss: 0.9685 - accuracy: 0.6348 - val_loss: 0.9339 - val_accuracy: 0.6406\n",
            "Epoch 40/40\n",
            "505/505 [==============================] - 18s 36ms/step - loss: 0.9628 - accuracy: 0.6368 - val_loss: 0.9315 - val_accuracy: 0.6417\n"
          ],
          "name": "stdout"
        }
      ]
    },
    {
      "cell_type": "code",
      "metadata": {
        "trusted": true,
        "id": "v0t2kbHDNSeq",
        "colab_type": "code",
        "colab": {},
        "outputId": "6100a718-954f-4428-ec6c-077e33c9c199"
      },
      "source": [
        "score = cnn_model.evaluate(x_test, y_test)"
      ],
      "execution_count": null,
      "outputs": [
        {
          "output_type": "stream",
          "text": [
            "113/113 [==============================] - 1s 6ms/step - loss: 0.9315 - accuracy: 0.6417\n"
          ],
          "name": "stdout"
        }
      ]
    },
    {
      "cell_type": "code",
      "metadata": {
        "_uuid": "d629ff2d2480ee46fbb7e2d37f6b5fab8052498a",
        "_cell_guid": "79c7e3d0-c299-4dcb-8224-4455121ee9b0",
        "trusted": true,
        "id": "WRj_Is3cNSet",
        "colab_type": "code",
        "colab": {},
        "outputId": "25ed6da3-438f-44a2-8093-7e8b0b70cf84"
      },
      "source": [
        "plt.plot(history.history['loss'], color='b')\n",
        "plt.plot(history.history['val_loss'], color='r')\n",
        "plt.show()\n",
        "plt.plot(history.history['accuracy'], color='b')\n",
        "plt.plot(history.history['val_accuracy'], color='r')\n",
        "plt.show()"
      ],
      "execution_count": null,
      "outputs": [
        {
          "output_type": "display_data",
          "data": {
            "text/plain": [
              "<Figure size 432x288 with 1 Axes>"
            ],
            "image/png": "[encoded data removed]"
          },
          "metadata": {
            "tags": [],
            "needs_background": "light"
          }
        },
        {
          "output_type": "display_data",
          "data": {
            "text/plain": [
              "<Figure size 432x288 with 1 Axes>"
            ],
            "image/png": "[encoded data removed]"
          },
          "metadata": {
            "tags": [],
            "needs_background": "light"
          }
        }
      ]
    },
    {
      "cell_type": "markdown",
      "metadata": {
        "id": "PIRRNyLrNcd7",
        "colab_type": "text"
      },
      "source": [
        "AFTER 250 EPOCHS TRAIN ACCURACY-74.42 TRAIN ACCURACY-69.52"
      ]
    }
  ]
}